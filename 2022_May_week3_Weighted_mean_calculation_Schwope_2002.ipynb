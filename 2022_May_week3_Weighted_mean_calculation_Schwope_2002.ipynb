{
 "cells": [
  {
   "cell_type": "markdown",
   "id": "4c191b89",
   "metadata": {},
   "source": [
    "#### 0. Import all modules"
   ]
  },
  {
   "cell_type": "code",
   "execution_count": 1,
   "id": "91508690",
   "metadata": {},
   "outputs": [],
   "source": [
    "import sys\n",
    "import os\n",
    "import numpy as np\n",
    "from numpy import mean\n",
    "np.seterr(divide='ignore', invalid='ignore')\n",
    "from matplotlib import pyplot as plt\n",
    "from scipy.optimize import curve_fit\n",
    "\n",
    "import julian\n",
    "import datetime\n",
    "\n",
    "from statistics import stdev\n",
    "from statistics import mean\n",
    "\n",
    "from matplotlib import rc\n",
    "rc('text', usetex=True)\n",
    "rc('font', family='serif',size=14)"
   ]
  },
  {
   "cell_type": "code",
   "execution_count": 2,
   "id": "9babab49",
   "metadata": {},
   "outputs": [
    {
     "name": "stdout",
     "output_type": "stream",
     "text": [
      "\u001b[1m\u001b[31m2022_May_week3_Weighted_mean_calculation_Schwope_2002.ipynb\u001b[m\u001b[m*\r\n",
      "2022_May_week3_Weighted_mean_calculation_Schwope_2002_01.out\r\n",
      "2022_May_week3_Weighted_mean_calculation_Schwope_2002_02.out\r\n",
      "2022_May_week3_Weighted_mean_calculation_Schwope_2002_03.out\r\n",
      "2022_May_week3_Weighted_mean_calculation_Schwope_2002_04.out\r\n",
      "2022_May_week3_Weighted_mean_calculation_Schwope_2002_05.out\r\n",
      "2022_May_week3_Weighted_mean_calculation_Schwope_2002_06.out\r\n",
      "2022_May_week3_Weighted_mean_calculation_Schwope_2002_07.out\r\n",
      "2022_May_week3_Weighted_mean_calculation_Schwope_2002_08.out\r\n",
      "2022_May_week3_Weighted_mean_calculation_Schwope_2002_09.out\r\n",
      "2022_May_week3_Weighted_mean_calculation_Schwope_2002_combined.out\r\n",
      "OC_Schwope_2002.jpg\r\n",
      "\u001b[1m\u001b[31mSchwope_2002.dat\u001b[m\u001b[m*\r\n",
      "Schwope_2002.out\r\n",
      "Weighted_mean_calculation_gp1.txt\r\n",
      "Weighted_mean_calculation_gp2.txt\r\n",
      "Weighted_mean_calculation_gp3.txt\r\n",
      "Weighted_mean_calculation_gp4.txt\r\n",
      "Weighted_mean_calculation_gp5.txt\r\n",
      "Weighted_mean_calculation_gp6.txt\r\n",
      "Weighted_mean_calculation_gp7.txt\r\n",
      "Weighted_mean_calculation_gp8.txt\r\n",
      "Weighted_mean_calculation_gp9.txt\r\n",
      "interporate_lnquad_fit.out\r\n"
     ]
    }
   ],
   "source": [
    "ls"
   ]
  },
  {
   "cell_type": "markdown",
   "id": "5dd8d19d",
   "metadata": {},
   "source": [
    "#### 1. Read input file: Schwope_2002"
   ]
  },
  {
   "cell_type": "code",
   "execution_count": 3,
   "id": "7fa5d308",
   "metadata": {},
   "outputs": [],
   "source": [
    "DP_Leo_Schwope_2002 = open(\"Schwope_2002.dat\",'r').readlines()\n",
    "N_dpleo_Schwope_2002 = len(DP_Leo_Schwope_2002)\n",
    "\n",
    "#Read datat\n",
    "Cycle = []\n",
    "T_obs = []\n",
    "T_obs_err = []\n",
    "#Please change the input file\n",
    "for line in open(\"Schwope_2002.dat\"):\n",
    "    li=line.strip()\n",
    "    if not li.startswith(\"#\"):\n",
    "        Cycle.append(float(li.split(\" \")[0]))\n",
    "        T_obs.append(float(li.split(\" \")[1]))\n",
    "        T_obs_err.append(float(li.split(\" \")[2]))"
   ]
  },
  {
   "cell_type": "markdown",
   "id": "60861ae1",
   "metadata": {},
   "source": [
    "#### 2. Check the year and the local time of observation: Schwope_2002"
   ]
  },
  {
   "cell_type": "code",
   "execution_count": 4,
   "id": "a7e11cb8",
   "metadata": {},
   "outputs": [
    {
     "name": "stdout",
     "output_type": "stream",
     "text": [
      "0 44214.55325 1979-12-07 13:16:40.799989\n",
      "1 44214.61562 1979-12-07 14:46:29.567984\n",
      "2 44214.67798 1979-12-07 16:16:17.472013\n",
      "3 44968.02309 1981-12-30 00:33:14.975982\n",
      "4 44968.95712 1981-12-30 22:58:15.167993\n",
      "5 44969.01962 1981-12-31 00:28:15.167993\n",
      "6 44978.99755 1982-01-09 23:56:28.319997\n",
      "7 44993.90078 1982-01-24 21:37:07.391982\n",
      "8 44993.96328 1982-01-24 23:07:07.391982\n",
      "9 44994.02642 1982-01-25 00:38:02.688000\n",
      "10 45020.90513 1982-02-20 21:43:23.231987\n",
      "11 45021.90292 1982-02-21 21:40:12.287981\n",
      "12 45024.83386 1982-02-24 20:00:45.504011\n",
      "13 45731.9664 1984-02-01 23:11:36.959982\n",
      "14 45763.83373 1984-03-04 20:00:34.272006\n",
      "15 45854.8828 1984-06-03 21:11:13.919981\n",
      "16 46054.94231 1984-12-20 22:36:55.583986\n",
      "17 46086.93565 1985-01-21 22:27:20.159989\n",
      "18 46086.99796 1985-01-21 23:57:03.743985\n",
      "19 48560.5578 1991-10-31 13:23:13.920005\n",
      "20 48773.21509 1992-05-31 05:09:43.776006\n",
      "21 48774.21293 1992-06-01 05:06:37.151993\n",
      "22 49137.91294 1993-05-30 21:54:38.016015\n",
      "23 49143.96214 1993-06-05 23:05:28.895996\n",
      "24 49144.02438 1993-06-06 00:35:06.431986\n",
      "25 49144.08689 1993-06-06 02:05:07.295992\n",
      "26 49144.96005 1993-06-06 23:02:28.319989\n",
      "27 49145.02235 1993-06-07 00:32:11.040018\n",
      "28 49145.08454 1993-06-07 02:01:44.256016\n",
      "29 49145.14711 1993-06-07 03:31:50.303981\n",
      "30 51870.77688 2000-11-22 18:38:42.431981\n",
      "31 51870.90163 2000-11-22 21:38:20.832018\n",
      "32 52284.678997 2002-01-10 16:17:45.340818\n",
      "33 52284.741363 2002-01-10 17:47:33.763210\n"
     ]
    }
   ],
   "source": [
    "#Arrays\n",
    "LT_a = [i for i in range(len(DP_Leo_Schwope_2002))]\n",
    "\n",
    "Local_Time = []\n",
    "Flux = []\n",
    "for i in range(len(DP_Leo_Schwope_2002)):\n",
    "    LT = julian.from_jd(T_obs[i], fmt='mjd')\n",
    "    LT_a[i] = LT\n",
    "    Local_Time.append(LT_a[i])\n",
    "    print(i, T_obs[i], LT_a[i])"
   ]
  },
  {
   "cell_type": "markdown",
   "id": "9a8eb3be",
   "metadata": {},
   "source": [
    "#### 3. DP Leo parameters "
   ]
  },
  {
   "cell_type": "code",
   "execution_count": 5,
   "id": "b34d3956",
   "metadata": {},
   "outputs": [],
   "source": [
    "#Linear phemeris equation(From equation 1) convert from TT to TDB\n",
    "#New ephemeris\n",
    "T0_bjd = 48773.21494595859\n",
    "T0_bjd_err = 3.166167326489e-05\n",
    "P0_day = 0.062362838283495516\n",
    "P0_day_err = 9.611205898589147e-10"
   ]
  },
  {
   "cell_type": "markdown",
   "id": "02bc6700",
   "metadata": {},
   "source": [
    "#### 4. Arrays of Schwope_2002 "
   ]
  },
  {
   "cell_type": "code",
   "execution_count": 6,
   "id": "f30d6244",
   "metadata": {},
   "outputs": [],
   "source": [
    "#Arrays\n",
    "BJD_time_a = [i for i in range(N_dpleo_Schwope_2002)]\n",
    "Delta_aT = [i for i in range(N_dpleo_Schwope_2002)]\n",
    "Delta_aT_err = [i for i in range(N_dpleo_Schwope_2002)]\n",
    "E_af = [i for i in range(N_dpleo_Schwope_2002)] #float number\n",
    "E_ak = [i for i in range(N_dpleo_Schwope_2002)] #integer number\n",
    "E_aj = [i for i in range(N_dpleo_Schwope_2002)] #integer number\n",
    "P_aE = [i for i in range(N_dpleo_Schwope_2002)]\n",
    "P_err_aE = [i for i in range(N_dpleo_Schwope_2002)]\n",
    "T_aC_linear = [i for i in range(N_dpleo_Schwope_2002)]\n",
    "T_aO_linear = [i for i in range(N_dpleo_Schwope_2002)]\n",
    "P_aver_a = [i for i in range(N_dpleo_Schwope_2002)]\n",
    "P_aver_std_a = [i for i in range(N_dpleo_Schwope_2002)]"
   ]
  },
  {
   "cell_type": "markdown",
   "id": "b26d0d1e",
   "metadata": {},
   "source": [
    "#### 5. The O-C calculation of Schwope_2002 "
   ]
  },
  {
   "cell_type": "code",
   "execution_count": 7,
   "id": "eb2c9fc3",
   "metadata": {},
   "outputs": [
    {
     "name": "stdout",
     "output_type": "stream",
     "text": [
      "No. \t BJD_time \t Cycle \t T_O_linear \t T_C_linear \t OC_s \t\t OC_s_err\n",
      "0\t44214.553250\t-73099\t44214.553250\t44214.553830\t-50.135618\t13.684344\n",
      "1\t44214.615620\t-73098\t44214.615620\t44214.616193\t-49.516846\t13.684307\n",
      "2\t44214.677980\t-73097\t44214.677980\t44214.678556\t-49.762073\t13.684270\n",
      "3\t44968.023090\t-61017\t44968.023090\t44968.021642\t125.071383\t97.396544\n",
      "4\t44968.957120\t-61002\t44968.957120\t44968.957085\t3.024968\t97.396479\n",
      "5\t44969.019620\t-61001\t44969.019620\t44969.019448\t14.875740\t97.396474\n",
      "6\t44978.997550\t-60841\t44978.997550\t44978.997502\t4.151309\t97.395784\n",
      "7\t44993.900780\t-60602\t44993.900780\t44993.902220\t-124.442109\t57.484751\n",
      "8\t44993.963280\t-60601\t44993.963280\t44993.964583\t-112.591337\t57.484744\n",
      "9\t44994.026420\t-60600\t44994.026420\t44994.026946\t-45.444565\t57.484736\n",
      "10\t45020.905130\t-60169\t45020.905130\t45020.905329\t-17.217702\t17.972785\n",
      "11\t45021.902920\t-60153\t45021.902920\t45021.903135\t-18.549344\t17.972416\n",
      "12\t45024.833860\t-60106\t45024.833860\t45024.834188\t-28.347046\t57.481160\n",
      "13\t45731.966400\t-48767\t45731.966400\t45731.966411\t-0.983869\t27.563353\n",
      "14\t45763.833730\t-48256\t45763.833730\t45763.833822\t-7.927220\t4.602749\n",
      "15\t45854.882800\t-46796\t45854.882800\t45854.883566\t-66.151653\t97.342252\n",
      "16\t46054.942310\t-43588\t46054.942310\t46054.943551\t-107.210096\t97.331981\n",
      "17\t46086.935650\t-43075\t46086.935650\t46086.935687\t-3.187903\t3.586730\n",
      "18\t46086.997960\t-43074\t46086.997960\t46086.998050\t-7.753131\t3.586647\n",
      "19\t48560.557800\t-3410\t48560.557800\t48560.557667\t11.455615\t1.296064\n",
      "20\t48773.215090\t1\t48773.215090\t48773.214946\t12.445177\t2.264399\n",
      "21\t48774.212930\t16\t48774.212930\t48774.212751\t15.433534\t2.264400\n",
      "22\t49137.912940\t5848\t49137.912940\t49137.912824\t10.001623\t2.315887\n",
      "23\t49143.962140\t5945\t49143.962140\t49143.962020\t10.406537\t2.317590\n",
      "24\t49144.024380\t5946\t49144.024380\t49144.024382\t-0.206691\t2.317607\n",
      "25\t49144.086890\t5947\t49144.086890\t49144.086745\t12.508081\t2.317625\n",
      "26\t49144.960050\t5961\t49144.960050\t49144.959825\t19.442894\t2.317873\n",
      "27\t49145.022350\t5962\t49145.022350\t49145.022188\t14.013666\t2.317891\n",
      "28\t49145.084540\t5963\t49145.084540\t49145.084551\t-0.919562\t2.317909\n",
      "29\t49145.147110\t5964\t49145.147110\t49145.146913\t16.979210\t2.317926\n",
      "30\t51870.776880\t49670\t51870.776880\t51870.777123\t-21.038384\t4.705331\n",
      "31\t51870.901630\t49672\t51870.901630\t51870.901849\t-18.936840\t4.705477\n",
      "32\t52284.678997\t56307\t52284.678997\t52284.679281\t-24.553789\t5.004972\n",
      "33\t52284.741363\t56308\t52284.741363\t52284.741644\t-24.280617\t4.844419\n"
     ]
    }
   ],
   "source": [
    "delta_tdb_tt = 0.0013/(24*60*60)\n",
    "OC_cal = []\n",
    "#print ('-----------------------------------------------------------------------------')\n",
    "#print ('Cycle \\t\\t T_O \\t   T_C \\t\\t BJD - 2450000 \\t OC_lin OC_err_Lin OC_occ')\n",
    "print('No. \\t BJD_time \\t Cycle \\t T_O_linear \\t T_C_linear \\t OC_s \\t\\t OC_s_err')\n",
    "#print ('-----------------------------------------------------------------------------')\n",
    "for i in range (0,N_dpleo_Schwope_2002):\n",
    "    BJD_time = np.array(T_obs)+delta_tdb_tt\n",
    "    BJD_time_a[i] = BJD_time\n",
    "    Delta_T = np.array(T_obs) - np.array(T0_bjd)\n",
    "    Delta_aT[i] = Delta_T #arrays\n",
    "    Delta_T_err = np.sqrt((np.array(T_obs_err)/np.array(T_obs))**2 + (np.array(T0_bjd_err)/np.array(T0_bjd))**2)\n",
    "    E_k = Cycle\n",
    "    E_ak[i] = E_k #arrays\n",
    "    #    print (Delta_T_err[i])\n",
    "    E_f = Delta_T / P0_day                      #Calculate cycle with float number\n",
    "    ##    print (E_f)                                 #print cycle with float number\n",
    "    E_af[i] = E_f #arrays\n",
    "    E_j = np.round(Delta_T / P0_day)           #Calculate cycle with integer number\n",
    "##print (Delta_T)\n",
    "    if  E_j[i] != 0:\n",
    "        P_E_day = Delta_T[i] / E_j[i]\n",
    "        P_aE[i] = P_E_day\n",
    "        P_E_err_day = np.abs((np.array(T_obs_err[i]) - np.array(T0_bjd_err)) / E_j[i])\n",
    "        P_err_aE[i] = P_E_err_day\n",
    "        T_O_linear = T0_bjd + P_aE[i]*E_j[i]               #Linear\n",
    "        T_aO_linear[i] = T_O_linear #arrays\n",
    "    else:\n",
    "        E_k[i] = 1\n",
    "        P_E_day = Delta_T[i] / E_k[i]\n",
    "#        print (P_E_day)\n",
    "        P_aE[i] = P_E_day\n",
    "        P_E_err_day = np.abs((np.array(T_obs_err[i]) - np.array(T0_bjd_err)) / E_k[i])\n",
    "        P_err_aE[i] = P_E_err_day\n",
    "        T_O_linear = T0_bjd + P_aE[i]*E_k[i]               #Linear\n",
    "        T_aO_linear[i] = T_O_linear #arrays\n",
    "#    print ('%0.6f' %(T_O))\n",
    "#print (E_j)                                #print cycle with integer number\n",
    "    if  E_j[i] != 0:\n",
    "        P_E_day = Delta_T[i] / E_j[i]\n",
    "        P_aE[i] = P_E_day\n",
    "        P_E_err_day = np.abs((np.array(T_obs_err[i]) - np.array(T0_bjd_err)) / E_j[i])\n",
    "#        print (P_E_err_day)\n",
    "        P_err_aE[i] = P_E_err_day\n",
    "        T_C_linear = T0_bjd + P0_day*E_j[i]              #Linear\n",
    "        T_aC_linear[i] = T_C_linear #arrays\n",
    "#    print (T_O, T_C)\n",
    "        OC = np.array(T_O_linear) - np.array(T_C_linear)\n",
    "        OC_s = (np.array(T_O_linear) - np.array(T_C_linear))*24*60*60\n",
    "        OC_err = np.abs(np.sqrt((np.array(P_err_aE[i])**2 + (np.array(P0_day_err)**2))) * np.array(E_j[i]))\n",
    "#        print (OC_err)\n",
    "        OC_s_err = OC_err*24*60*60\n",
    "    else:\n",
    "        P_E_day = Delta_T[i] / E_k[i]\n",
    "        P_aE[i] = P_E_day\n",
    "        P_E_err_day = np.abs((np.array(T_obs_err[i]) - np.array(T0_bjd_err)) / E_k[i])\n",
    "        P_err_aE[i] = P_E_err_day\n",
    "        T_C_linear = T0_bjd + P0_day*E_j[i]              #Linear\n",
    "        T_aC_linear[i] = T_C_linear #arrays\n",
    "#    print (T_O, T_C)\n",
    "        OC = np.array(T_O_linear) - np.array(T_C_linear)\n",
    "        OC_s = (np.array(T_O_linear) - np.array(T_C_linear))*24*60*60\n",
    "        OC_err = np.abs(np.sqrt((np.array(P_err_aE[i])**2)) *np.array(E_k[i]))\n",
    "#        print (OC_err)\n",
    "        OC_s_err = OC_err*24*60*60\n",
    "    print ('%0.0f\\t%0.6f\\t%0.0f\\t%0.6f\\t%0.6f\\t%0.6f\\t%0.6f' %(i, BJD_time[i], Cycle[i], T_O_linear, T_C_linear, OC_s, OC_s_err))\n",
    "    OC_cal.append('%0.6f\\t%0.0f\\t%0.6f\\t%0.6f\\t%0.6f\\t%0.6f' %(BJD_time[i], Cycle[i], T_O_linear, T_C_linear, OC_s, OC_s_err))\n",
    "\n",
    "#P_aver = mean(P_aE[i])\n",
    "#P_aver_a[i] = P_aver\n",
    "#P_aver_std = np.std(P_aE[i])\n",
    "#P_aver_std = mean(P_err_aE[i])\n",
    "#P_aver_std_a[i] = P_aver_std\n",
    "#print('%0.11f %0.11f' %(P_aver, P_aver_std))\n",
    "\n",
    "rerults = OC_cal\n",
    "f = open(\"Schwope_2002.out\", 'w')\n",
    "for i in range(len(rerults)):\n",
    "    f.write(str(rerults[i])+ '\\n')\n",
    "f.close()"
   ]
  },
  {
   "cell_type": "markdown",
   "id": "846b87bd",
   "metadata": {},
   "source": [
    "#### 6. The O-C diagram of Schwope_2002  "
   ]
  },
  {
   "cell_type": "code",
   "execution_count": 8,
   "id": "aa898978",
   "metadata": {},
   "outputs": [
    {
     "data": {
      "image/png": "[encoded data removed]",
      "text/plain": [
       "<Figure size 1080x360 with 1 Axes>"
      ]
     },
     "metadata": {
      "needs_background": "light"
     },
     "output_type": "display_data"
    }
   ],
   "source": [
    "#Plot O-C vs BJD\n",
    "Input_Schwope_2002  = 'Schwope_2002.out'\n",
    "Data_Schwope_2002   = np.genfromtxt(Input_Schwope_2002)\n",
    "\n",
    "N = 2400000\n",
    "BJD_time_Schwope_2002 = Data_Schwope_2002[:,0]\n",
    "Cycle_Schwope_2002 = Data_Schwope_2002[:,1]\n",
    "T_O_linear_Schwope_2002 = Data_Schwope_2002[:,2]\n",
    "T_C_linear_Schwope_2002 = Data_Schwope_2002[:,3]\n",
    "OC_s_Schwope_2002 = Data_Schwope_2002[:,4]\n",
    "OC_s_err_Schwope_2002 = Data_Schwope_2002[:,5]\n",
    "\n",
    " ##Plotgraph\n",
    "fig=plt.figure(figsize=(15, 5), tight_layout=True)\n",
    "plt.tick_params(direction='in', which='both', bottom='on',top='on', right = 'on')\n",
    "\n",
    "x1 = min(BJD_time_Schwope_2002)\n",
    "x2 = max(BJD_time_Schwope_2002)\n",
    "#plt.errorbar(BJD_time, OC_s, yerr=OC_s_err, fmt='o', color='limegreen')\n",
    "plt.errorbar(BJD_time_Schwope_2002, OC_s_Schwope_2002, yerr= OC_s_err_Schwope_2002, fmt='o', markersize=8, color='green',\n",
    "                    ecolor='lightgray', label = 'Schwope et al. (2002)')\n",
    "\n",
    "#Schwope_2002\n",
    "plt.text(BJD_time_Schwope_2002[0], 300, '1979')\n",
    "plt.text(BJD_time_Schwope_2002[3], 300, '1981')\n",
    "plt.text(BJD_time_Schwope_2002[13], 300, '1984')\n",
    "plt.text(BJD_time_Schwope_2002[17], 300, '1985')\n",
    "plt.text(BJD_time_Schwope_2002[19]-100, 300, '1991')\n",
    "plt.text(BJD_time_Schwope_2002[20], 300, '1992')\n",
    "plt.text(BJD_time_Schwope_2002[22], 300, '1993')\n",
    "plt.text(BJD_time_Schwope_2002[30], 300, '2000')\n",
    "plt.text(BJD_time_Schwope_2002[32], 300, '2002')\n",
    "\n",
    "plt.axvline(x= BJD_time_Schwope_2002[2], color='k', linestyle='--')\n",
    "#plt.axvline(x= BJD_time_Schwope_2002[5], color='k', linestyle='--')\n",
    "plt.axvline(x= BJD_time_Schwope_2002[12], color='k', linestyle='--')\n",
    "plt.axvline(x= BJD_time_Schwope_2002[16], color='k', linestyle='--')\n",
    "plt.axvline(x= BJD_time_Schwope_2002[18], color='k', linestyle='--')\n",
    "plt.axvline(x= BJD_time_Schwope_2002[19], color='k', linestyle='--')\n",
    "plt.axvline(x= BJD_time_Schwope_2002[21], color='k', linestyle='--')\n",
    "plt.axvline(x= BJD_time_Schwope_2002[29], color='k', linestyle='--')\n",
    "plt.axvline(x= BJD_time_Schwope_2002[31], color='k', linestyle='--')\n",
    "plt.axvline(x= BJD_time_Schwope_2002[33], color='k', linestyle='--')\n",
    "\n",
    "#plt.hlines(y= 0, xmin= x1, xmax= x2, colors='k', linestyles='dotted')\n",
    "#plt.xlim(x1,x2)\n",
    "#plt.ylim(-20,20)\n",
    "plt.xlabel('BJD - '+str(N))\n",
    "plt.ylabel('O-C (sec)')\n",
    "plt.legend()\n",
    "plt.grid(linestyle='dotted')\n",
    "######plt.title('O-C diagram: DP Leo')\n",
    "#output_filename = os.path.splitext(__file__)[0] + '.png'\n",
    "#plt.savefig(output_filename, dpi=1000)\n",
    "plt.savefig(\"OC_Schwope_2002.jpg\", dpi=1000)\n",
    "plt.show()"
   ]
  },
  {
   "cell_type": "markdown",
   "id": "13bbd995",
   "metadata": {},
   "source": [
    "#### 7. Group the data for calculating weighted mean: Schwope_2002"
   ]
  },
  {
   "cell_type": "code",
   "execution_count": 9,
   "id": "2355b269",
   "metadata": {},
   "outputs": [
    {
     "name": "stdout",
     "output_type": "stream",
     "text": [
      "No.year-month-day LT \t\t BJD- 2400000 \t OC(s) \t OC_err(s)\n",
      "0 1979-12-07 13:16:40.799989 44214.55325 -50.135618 13.684344\n",
      "1 1979-12-07 14:46:29.567984 44214.61562 -49.516846 13.684307\n",
      "2 1979-12-07 16:16:17.472013 44214.67798 -49.762073 13.68427\n",
      "3 1981-12-30 00:33:14.975982 44968.02309 125.071383 97.396544\n",
      "4 1981-12-30 22:58:15.167993 44968.95712 3.024968 97.396479\n",
      "5 1981-12-31 00:28:15.167993 44969.01962 14.87574 97.396474\n",
      "6 1982-01-09 23:56:28.319997 44978.99755 4.151309 97.395784\n",
      "7 1982-01-24 21:37:07.391982 44993.90078 -124.442109 57.484751\n",
      "8 1982-01-24 23:07:07.391982 44993.96328 -112.591337 57.484744\n",
      "9 1982-01-25 00:38:02.688000 44994.02642 -45.444565 57.484736\n",
      "10 1982-02-20 21:43:23.231987 45020.90513 -17.217702 17.972785\n",
      "11 1982-02-21 21:40:12.287981 45021.90292 -18.549344 17.972416\n",
      "12 1982-02-24 20:00:45.504011 45024.83386 -28.347046 57.48116\n",
      "13 1984-02-01 23:11:36.959982 45731.9664 -0.983869 27.563353\n",
      "14 1984-03-04 20:00:34.272006 45763.83373 -7.92722 4.602749\n",
      "15 1984-06-03 21:11:13.919981 45854.8828 -66.151653 97.342252\n",
      "16 1984-12-20 22:36:55.583986 46054.94231 -107.210096 97.331981\n",
      "17 1985-01-21 22:27:20.159989 46086.93565 -3.187903 3.58673\n",
      "18 1985-01-21 23:57:03.743985 46086.99796 -7.753131 3.586647\n",
      "19 1991-10-31 13:23:13.920005 48560.5578 11.455615 1.296064\n",
      "20 1992-05-31 05:09:43.776006 48773.21509 12.445177 2.264399\n",
      "21 1992-06-01 05:06:37.151993 48774.21293 15.433534 2.2644\n",
      "22 1993-05-30 21:54:38.016015 49137.91294 10.001623 2.315887\n",
      "23 1993-06-05 23:05:28.895996 49143.96214 10.406537 2.31759\n",
      "24 1993-06-06 00:35:06.431986 49144.02438 -0.206691 2.317607\n",
      "25 1993-06-06 02:05:07.295992 49144.08689 12.508081 2.317625\n",
      "26 1993-06-06 23:02:28.319989 49144.96005 19.442894 2.317873\n",
      "27 1993-06-07 00:32:11.040018 49145.02235 14.013666 2.317891\n",
      "28 1993-06-07 02:01:44.256016 49145.08454 -0.919562 2.317909\n",
      "29 1993-06-07 03:31:50.303981 49145.14711 16.97921 2.317926\n",
      "30 2000-11-22 18:38:42.431981 51870.77688 -21.038384 4.705331\n",
      "31 2000-11-22 21:38:20.832018 51870.90163 -18.93684 4.705477\n",
      "32 2002-01-10 16:17:45.340818 52284.678997 -24.553789 5.004972\n",
      "33 2002-01-10 17:47:33.763210 52284.741363 -24.280617 4.844419\n"
     ]
    }
   ],
   "source": [
    "#Checkinng month,year from BJD\n",
    "BJD_time = Data_Schwope_2002[:,0]\n",
    "OC_s = Data_Schwope_2002[:,4]\n",
    "OC_s_err = Data_Schwope_2002[:,5]\n",
    "\n",
    "\n",
    "gp1 = []\n",
    "gp2 = []\n",
    "gp3 = []\n",
    "gp4 = []\n",
    "gp5 = []\n",
    "gp6 = []\n",
    "gp7 = []\n",
    "gp8 = []\n",
    "gp9 = []\n",
    "\n",
    "print('No.year-month-day LT \\t\\t BJD- 2400000 \\t OC(s) \\t OC_err(s)')\n",
    "for i in range(len(BJD_time)):\n",
    "    LT = julian.from_jd(BJD_time[i], fmt='mjd')\n",
    "    print(i, LT, BJD_time[i], OC_s[i], OC_s_err[i])\n",
    "    if BJD_time[2] >= BJD_time[i]:        #gp1\n",
    "        gp1.append('%0.12f %0.6f %0.6f' %(BJD_time[i], OC_s[i], OC_s_err[i]))\n",
    "    elif BJD_time[12] >= BJD_time[i]:       #gp2\n",
    "        gp2.append('%0.12f %0.6f %0.6f' %(BJD_time[i], OC_s[i], OC_s_err[i]))\n",
    "    elif BJD_time[16] >= BJD_time[i]:       #gp3\n",
    "        gp3.append('%0.12f %0.6f %0.6f' %(BJD_time[i], OC_s[i], OC_s_err[i]))\n",
    "    elif BJD_time[18] >= BJD_time[i]:       #gp4\n",
    "        gp4.append('%0.12f %0.6f %0.6f' %(BJD_time[i], OC_s[i], OC_s_err[i]))\n",
    "    elif BJD_time[19] >= BJD_time[i]:       #gp5\n",
    "        gp5.append('%0.12f %0.6f %0.6f' %(BJD_time[i], OC_s[i], OC_s_err[i]))\n",
    "    elif BJD_time[21] >= BJD_time[i]:       #gp6\n",
    "        gp6.append('%0.12f %0.6f %0.6f' %(BJD_time[i], OC_s[i], OC_s_err[i]))\n",
    "    elif BJD_time[29] >= BJD_time[i]:       #gp7\n",
    "        gp7.append('%0.12f %0.6f %0.6f' %(BJD_time[i], OC_s[i], OC_s_err[i]))\n",
    "    elif BJD_time[31] >= BJD_time[i]:       #gp8\n",
    "        gp8.append('%0.12f %0.6f %0.6f' %(BJD_time[i], OC_s[i], OC_s_err[i]))\n",
    "    elif BJD_time[33] >= BJD_time[i]:       #gp9\n",
    "        gp9.append('%0.12f %0.6f %0.6f' %(BJD_time[i], OC_s[i], OC_s_err[i]))\n",
    "#-------------------------- Group1 -----------#        \n",
    "rerults = gp1\n",
    "f = open('Weighted_mean_calculation_gp1.txt', 'w')\n",
    "for i in range(len(rerults)):\n",
    "    f.write(str(rerults[i])+ '\\n')\n",
    "f.close()\n",
    "#-------------------------- Group2 -----------#        \n",
    "rerults = gp2\n",
    "f = open('Weighted_mean_calculation_gp2.txt', 'w')\n",
    "for i in range(len(rerults)):\n",
    "    f.write(str(rerults[i])+ '\\n')\n",
    "f.close()\n",
    "#-------------------------- Group3 -----------#        \n",
    "rerults = gp3\n",
    "f = open('Weighted_mean_calculation_gp3.txt', 'w')\n",
    "for i in range(len(rerults)):\n",
    "    f.write(str(rerults[i])+ '\\n')\n",
    "f.close()\n",
    "\n",
    "#-------------------------- Group4 -----------#        \n",
    "rerults = gp4\n",
    "f = open('Weighted_mean_calculation_gp4.txt', 'w')\n",
    "for i in range(len(rerults)):\n",
    "    f.write(str(rerults[i])+ '\\n')\n",
    "f.close()\n",
    "\n",
    "#-------------------------- Group5 -----------#        \n",
    "rerults = gp5\n",
    "f = open('Weighted_mean_calculation_gp5.txt', 'w')\n",
    "for i in range(len(rerults)):\n",
    "    f.write(str(rerults[i])+ '\\n')\n",
    "f.close()\n",
    "\n",
    "#-------------------------- Group6 -----------#        \n",
    "rerults = gp6\n",
    "f = open('Weighted_mean_calculation_gp6.txt', 'w')\n",
    "for i in range(len(rerults)):\n",
    "    f.write(str(rerults[i])+ '\\n')\n",
    "f.close()\n",
    "\n",
    "#-------------------------- Group7 -----------#        \n",
    "rerults = gp7\n",
    "f = open('Weighted_mean_calculation_gp7.txt', 'w')\n",
    "for i in range(len(rerults)):\n",
    "    f.write(str(rerults[i])+ '\\n')\n",
    "f.close()\n",
    "\n",
    "#-------------------------- Group8 -----------#        \n",
    "rerults = gp8\n",
    "f = open('Weighted_mean_calculation_gp8.txt', 'w')\n",
    "for i in range(len(rerults)):\n",
    "    f.write(str(rerults[i])+ '\\n')\n",
    "f.close()\n",
    "\n",
    "#-------------------------- Group9 -----------#        \n",
    "rerults = gp9\n",
    "f = open('Weighted_mean_calculation_gp9.txt', 'w')\n",
    "for i in range(len(rerults)):\n",
    "    f.write(str(rerults[i])+ '\\n')\n",
    "f.close()"
   ]
  },
  {
   "cell_type": "markdown",
   "id": "1b2b0ac1",
   "metadata": {},
   "source": [
    "#### 8. Check number of data for each group"
   ]
  },
  {
   "cell_type": "code",
   "execution_count": 10,
   "id": "f5502f8f",
   "metadata": {},
   "outputs": [
    {
     "name": "stdout",
     "output_type": "stream",
     "text": [
      "Number of data group#1: 3\n",
      "Number of data group#2: 10\n",
      "Number of data group#3: 4\n",
      "Number of data group#4: 2\n",
      "Number of data group#5: 3\n",
      "Number of data group#6: 2\n",
      "Number of data group#7: 8\n",
      "Number of data group#8: 2\n",
      "Number of data group#9: 2\n"
     ]
    }
   ],
   "source": [
    "#The 1st set of data point:\n",
    "Input_gp1 = \"Weighted_mean_calculation_gp1.txt\"\n",
    "Data_gp1   = np.genfromtxt(Input_gp1)\n",
    "N_data_gp1 = len(Data_gp1)\n",
    "print('Number of data group#1:',N_data_gp1)\n",
    "\n",
    "#The 2nd set of data point:\n",
    "Input_gp2 = \"Weighted_mean_calculation_gp2.txt\"\n",
    "Data_gp2   = np.genfromtxt(Input_gp2)\n",
    "N_data_gp2 = len(Data_gp2)\n",
    "print('Number of data group#2:',N_data_gp2)\n",
    "\n",
    "#The 3rd set of data point:\n",
    "Input_gp3 = \"Weighted_mean_calculation_gp3.txt\"\n",
    "Data_gp3   = np.genfromtxt(Input_gp3)\n",
    "N_data_gp3 = len(Data_gp3)\n",
    "print('Number of data group#3:',N_data_gp3)\n",
    "\n",
    "#The 4th set of data point:\n",
    "Input_gp4 = \"Weighted_mean_calculation_gp4.txt\"\n",
    "Data_gp4   = np.genfromtxt(Input_gp4)\n",
    "N_data_gp4 = len(Data_gp4)\n",
    "print('Number of data group#4:',N_data_gp4)\n",
    "\n",
    "#The 5th set of data point:\n",
    "Input_gp5 = \"Weighted_mean_calculation_gp5.txt\"\n",
    "Data_gp5   = np.genfromtxt(Input_gp5)\n",
    "N_data_gp5 = len(Data_gp5)\n",
    "print('Number of data group#5:',N_data_gp5)\n",
    "\n",
    "#The 6th set of data point:\n",
    "Input_gp6 = \"Weighted_mean_calculation_gp6.txt\"\n",
    "Data_gp6   = np.genfromtxt(Input_gp6)\n",
    "N_data_gp6 = len(Data_gp6)\n",
    "print('Number of data group#6:',N_data_gp6)\n",
    "\n",
    "#The 7th set of data point:\n",
    "Input_gp7 = \"Weighted_mean_calculation_gp7.txt\"\n",
    "Data_gp7   = np.genfromtxt(Input_gp7)\n",
    "N_data_gp7 = len(Data_gp7)\n",
    "print('Number of data group#7:',N_data_gp7)\n",
    "\n",
    "#The 8th set of data point:\n",
    "Input_gp8 = \"Weighted_mean_calculation_gp8.txt\"\n",
    "Data_gp8   = np.genfromtxt(Input_gp8)\n",
    "N_data_gp8 = len(Data_gp8)\n",
    "print('Number of data group#8:',N_data_gp8)\n",
    "\n",
    "#The 9th set of data point:\n",
    "Input_gp9 = \"Weighted_mean_calculation_gp9.txt\"\n",
    "Data_gp9   = np.genfromtxt(Input_gp9)\n",
    "N_data_gp9 = len(Data_gp9)\n",
    "print('Number of data group#9:',N_data_gp9)"
   ]
  },
  {
   "cell_type": "markdown",
   "id": "50d6d32b",
   "metadata": {},
   "source": [
    "#### 9. Weighted mean calculation "
   ]
  },
  {
   "cell_type": "code",
   "execution_count": 11,
   "id": "62498ef0",
   "metadata": {},
   "outputs": [
    {
     "name": "stdout",
     "output_type": "stream",
     "text": [
      "Mean BJD: 44214.61561666667\n",
      "Weighted OC: -49.8048449933347\n",
      "Weighted OC_err: 13.68430699986661\n"
     ]
    },
    {
     "name": "stderr",
     "output_type": "stream",
     "text": [
      "/Users/kittipongwangnok/anaconda3/lib/python3.9/site-packages/numpy/core/fromnumeric.py:87: VisibleDeprecationWarning: Creating an ndarray from ragged nested sequences (which is a list-or-tuple of lists-or-tuples-or ndarrays with different lengths or shapes) is deprecated. If you meant to do this, you must specify 'dtype=object' when creating the ndarray.\n",
      "  return ufunc.reduce(obj, axis, dtype, out, **passkwargs)\n"
     ]
    }
   ],
   "source": [
    "#Group1\n",
    "OC_a1 = [i for i in range(N_data_gp1)]\n",
    "OC_err_a1 = [i for i in range(N_data_gp1)]\n",
    "w_a1 = [i for i in range(N_data_gp1)]\n",
    "y_a1 = [i for i in range(N_data_gp1)]\n",
    "\n",
    "for i in range(N_data_gp1):\n",
    "    BJD_time = Data_gp1[:,0]                   #Input file of x\n",
    "    OC_s = Data_gp1[:,1]                       #Input file of y\n",
    "    OC_a1[i] = OC_s \n",
    "    OC_s_err = Data_gp1[:,2]                   #Input file of y_err\n",
    "    OC_err_a1[i] = OC_s_err\n",
    "    w = 1/(OC_err_a1[i])**2                    #calculate the weighting factor\n",
    "    w_a1[i] = w\n",
    "    y = (w_a1[i]*OC_a1[i])                     #Calculate the weighting factor and the y-value\n",
    "    y_a1[i] = y\n",
    "    y_sum = np.sum(y_a1)                       #Sum the weighting factor and the y-value                      \n",
    "    w_sum = np.sum(w_a1)                       #Sum the weighting factor \n",
    "    dy = (w_a1[i]*OC_err_a1[i])/np.sum(w_a1[i])\n",
    "#print(y_sum, w_sum)\n",
    "x1_aver = np.mean(BJD_time)                   #Calculate the mean of BMJD\n",
    "y1_aver = y_sum/w_sum                         #Calculate the weighted mean\n",
    "y1_err = np.sum(dy)                 #Calculate the standard deviation\n",
    "\n",
    "print('Mean BJD:', x1_aver)                   #Print Mean BJD\n",
    "print('Weighted OC:', y1_aver)                #Print the weighted mean\n",
    "print('Weighted OC_err:',y1_err)              #Print the error of the weighted mean"
   ]
  },
  {
   "cell_type": "code",
   "execution_count": 12,
   "id": "55c95012",
   "metadata": {},
   "outputs": [
    {
     "name": "stdout",
     "output_type": "stream",
     "text": [
      "Mean BJD: 44993.45297700001\n",
      "Weighted OC: -24.192924258542394\n",
      "Weighted OC_err: 28.36639001519582\n"
     ]
    }
   ],
   "source": [
    "#Group2\n",
    "OC_a2 = [i for i in range(N_data_gp2)]\n",
    "OC_err_a2 = [i for i in range(N_data_gp2)]\n",
    "w_a2 = [i for i in range(N_data_gp2)]\n",
    "y_a2 = [i for i in range(N_data_gp2)]\n",
    "\n",
    "for i in range(N_data_gp2):\n",
    "    BJD_time = Data_gp2[:,0]                   #Input file of x\n",
    "    OC_s = Data_gp2[:,1]                       #Input file of y\n",
    "    OC_a2[i] = OC_s \n",
    "    OC_s_err = Data_gp2[:,2]                   #Input file of y_err\n",
    "    OC_err_a2[i] = OC_s_err\n",
    "    w = 1/(OC_err_a2[i])**2                    #calculate the weighting factor\n",
    "    w_a2[i] = w\n",
    "    y = (w_a2[i]*OC_a2[i])                     #Calculate the weighting factor and the y-value\n",
    "    y_a2[i] = y\n",
    "    y_sum = np.sum(y_a2)                       #Sum the weighting factor and the y-value                      \n",
    "    w_sum = np.sum(w_a2)                       #Sum the weighting factor \n",
    "    dy = (w_a2[i]*OC_err_a2[i])/np.sum(w_a2[i])\n",
    "#print(y_sum, w_sum)\n",
    "x2_aver = np.mean(BJD_time)                   #Calculate the mean of BMJD\n",
    "y2_aver = y_sum/w_sum                         #Calculate the weighted mean\n",
    "y2_err = np.sum(dy)                 #Calculate the standard deviation\n",
    "\n",
    "print('Mean BJD:', x2_aver)                   #Print Mean BJD\n",
    "print('Weighted OC:', y2_aver)                #Print the weighted mean\n",
    "print('Weighted OC_err:',y2_err)              #Print the error of the weighted mean"
   ]
  },
  {
   "cell_type": "code",
   "execution_count": 13,
   "id": "5024cb9f",
   "metadata": {},
   "outputs": [
    {
     "name": "stdout",
     "output_type": "stream",
     "text": [
      "Mean BJD: 45851.40630999999\n",
      "Weighted OC: -8.080834963901271\n",
      "Weighted OC_err: 5.624653069773111\n"
     ]
    }
   ],
   "source": [
    "#Group3\n",
    "OC_a3 = [i for i in range(N_data_gp3)]\n",
    "OC_err_a3 = [i for i in range(N_data_gp3)]\n",
    "w_a3 = [i for i in range(N_data_gp3)]\n",
    "y_a3 = [i for i in range(N_data_gp3)]\n",
    "\n",
    "for i in range(N_data_gp3):\n",
    "    BJD_time = Data_gp3[:,0]                   #Input file of x\n",
    "    OC_s = Data_gp3[:,1]                       #Input file of y\n",
    "    OC_a3[i] = OC_s \n",
    "    OC_s_err = Data_gp3[:,2]                   #Input file of y_err\n",
    "    OC_err_a3[i] = OC_s_err\n",
    "    w = 1/(OC_err_a3[i])**2                    #calculate the weighting factor\n",
    "    w_a3[i] = w\n",
    "    y = (w_a3[i]*OC_a3[i])                     #Calculate the weighting factor and the y-value\n",
    "    y_a3[i] = y\n",
    "    y_sum = np.sum(y_a3)                       #Sum the weighting factor and the y-value                      \n",
    "    w_sum = np.sum(w_a3)                       #Sum the weighting factor \n",
    "    dy = (w_a3[i]*OC_err_a3[i])/np.sum(w_a3[i])\n",
    "#print(y_sum, w_sum)\n",
    "x3_aver = np.mean(BJD_time)                   #Calculate the mean of BMJD\n",
    "y3_aver = y_sum/w_sum                         #Calculate the weighted mean\n",
    "y3_err = np.sum(dy)                 #Calculate the standard deviation\n",
    "\n",
    "print('Mean BJD:', x3_aver)                   #Print Mean BJD\n",
    "print('Weighted OC:', y3_aver)                #Print the weighted mean\n",
    "print('Weighted OC_err:',y3_err)              #Print the error of the weighted mean"
   ]
  },
  {
   "cell_type": "code",
   "execution_count": 14,
   "id": "22ae2e80",
   "metadata": {},
   "outputs": [
    {
     "name": "stdout",
     "output_type": "stream",
     "text": [
      "Mean BJD: 46086.966805000004\n",
      "Weighted OC: -5.470569822251493\n",
      "Weighted OC_err: 3.586688499039643\n"
     ]
    }
   ],
   "source": [
    "#Group4\n",
    "OC_a4 = [i for i in range(N_data_gp4)]\n",
    "OC_err_a4 = [i for i in range(N_data_gp4)]\n",
    "w_a4 = [i for i in range(N_data_gp4)]\n",
    "y_a4 = [i for i in range(N_data_gp4)]\n",
    "\n",
    "for i in range(N_data_gp4):\n",
    "    BJD_time = Data_gp4[:,0]                   #Input file of x\n",
    "    OC_s = Data_gp4[:,1]                       #Input file of y\n",
    "    OC_a4[i] = OC_s \n",
    "    OC_s_err = Data_gp4[:,2]                   #Input file of y_err\n",
    "    OC_err_a4[i] = OC_s_err\n",
    "    w = 1/(OC_err_a4[i])**2                    #calculate the weighting factor\n",
    "    w_a4[i] = w\n",
    "    y = (w_a4[i]*OC_a4[i])                     #Calculate the weighting factor and the y-value\n",
    "    y_a4[i] = y\n",
    "    y_sum = np.sum(y_a4)                       #Sum the weighting factor and the y-value                      \n",
    "    w_sum = np.sum(w_a4)                       #Sum the weighting factor \n",
    "    dy = (w_a4[i]*OC_err_a4[i])/np.sum(w_a4[i])\n",
    "#print(y_sum, w_sum)\n",
    "x4_aver = np.mean(BJD_time)                   #Calculate the mean of BMJD\n",
    "y4_aver = y_sum/w_sum                         #Calculate the weighted mean\n",
    "y4_err = np.sum(dy)                 #Calculate the standard deviation\n",
    "\n",
    "print('Mean BJD:', x4_aver)                   #Print Mean BJD\n",
    "print('Weighted OC:', y4_aver)                #Print the weighted mean\n",
    "print('Weighted OC_err:',y4_err)              #Print the error of the weighted mean"
   ]
  },
  {
   "cell_type": "code",
   "execution_count": 15,
   "id": "beddcbc1",
   "metadata": {},
   "outputs": [],
   "source": [
    "#Group5\n",
    "Input_gp5 = \"Weighted_mean_calculation_gp5.txt\"\n",
    "Data_gp5   = np.genfromtxt(Input_gp5)\n",
    "\n",
    "x5_aver = Data_gp5[0]\n",
    "y5_aver = Data_gp5[1]\n",
    "y5_err =  Data_gp5[2]"
   ]
  },
  {
   "cell_type": "code",
   "execution_count": 16,
   "id": "376aca6b",
   "metadata": {},
   "outputs": [
    {
     "name": "stdout",
     "output_type": "stream",
     "text": [
      "Mean BJD: 48773.714009999996\n",
      "Weighted OC: 13.9393548401436\n",
      "Weighted OC_err: 2.2643994999997794\n"
     ]
    }
   ],
   "source": [
    "#Group6\n",
    "OC_a6 = [i for i in range(N_data_gp6)]\n",
    "OC_err_a6 = [i for i in range(N_data_gp6)]\n",
    "w_a6 = [i for i in range(N_data_gp6)]\n",
    "y_a6 = [i for i in range(N_data_gp6)]\n",
    "\n",
    "for i in range(N_data_gp6):\n",
    "    BJD_time = Data_gp6[:,0]                   #Input file of x\n",
    "    OC_s = Data_gp6[:,1]                       #Input file of y\n",
    "    OC_a6[i] = OC_s \n",
    "    OC_s_err = Data_gp6[:,2]                   #Input file of y_err\n",
    "    OC_err_a6[i] = OC_s_err\n",
    "    w = 1/(OC_err_a6[i])**2                    #calculate the weighting factor\n",
    "    w_a6[i] = w\n",
    "    y = (w_a6[i]*OC_a6[i])                     #Calculate the weighting factor and the y-value\n",
    "    y_a6[i] = y\n",
    "    y_sum = np.sum(y_a6)                       #Sum the weighting factor and the y-value                      \n",
    "    w_sum = np.sum(w_a6)                       #Sum the weighting factor \n",
    "    dy = (w_a6[i]*OC_err_a6[i])/np.sum(w_a6[i])\n",
    "#print(y_sum, w_sum)\n",
    "x6_aver = np.mean(BJD_time)                   #Calculate the mean of BMJD\n",
    "y6_aver = y_sum/w_sum                         #Calculate the weighted mean\n",
    "y6_err = np.sum(dy)                 #Calculate the standard deviation\n",
    "\n",
    "print('Mean BJD:', x6_aver)                   #Print Mean BJD\n",
    "print('Weighted OC:', y6_aver)                #Print the weighted mean\n",
    "print('Weighted OC_err:',y6_err)              #Print the error of the weighted mean"
   ]
  },
  {
   "cell_type": "code",
   "execution_count": 17,
   "id": "91e35552",
   "metadata": {},
   "outputs": [
    {
     "name": "stdout",
     "output_type": "stream",
     "text": [
      "Mean BJD: 49143.77505\n",
      "Weighted OC: 10.277921141478602\n",
      "Weighted OC_err: 2.3175381474011543\n"
     ]
    }
   ],
   "source": [
    "#Group7\n",
    "OC_a7 = [i for i in range(N_data_gp7)]\n",
    "OC_err_a7 = [i for i in range(N_data_gp7)]\n",
    "w_a7 = [i for i in range(N_data_gp7)]\n",
    "y_a7 = [i for i in range(N_data_gp7)]\n",
    "\n",
    "for i in range(N_data_gp7):\n",
    "    BJD_time = Data_gp7[:,0]                   #Input file of x\n",
    "    OC_s = Data_gp7[:,1]                       #Input file of y\n",
    "    OC_a7[i] = OC_s \n",
    "    OC_s_err = Data_gp7[:,2]                   #Input file of y_err\n",
    "    OC_err_a7[i] = OC_s_err\n",
    "    w = 1/(OC_err_a7[i])**2                    #calculate the weighting factor\n",
    "    w_a7[i] = w\n",
    "    y = (w_a7[i]*OC_a7[i])                     #Calculate the weighting factor and the y-value\n",
    "    y_a7[i] = y\n",
    "    y_sum = np.sum(y_a7)                       #Sum the weighting factor and the y-value                      \n",
    "    w_sum = np.sum(w_a7)                       #Sum the weighting factor \n",
    "    dy = (w_a7[i]*OC_err_a7[i])/np.sum(w_a7[i])\n",
    "#print(y_sum, w_sum)\n",
    "x7_aver = np.mean(BJD_time)                   #Calculate the mean of BMJD\n",
    "y7_aver = y_sum/w_sum                         #Calculate the weighted mean\n",
    "y7_err = np.sum(dy)                 #Calculate the standard deviation\n",
    "\n",
    "print('Mean BJD:', x7_aver)                   #Print Mean BJD\n",
    "print('Weighted OC:', y7_aver)                #Print the weighted mean\n",
    "print('Weighted OC_err:',y7_err)              #Print the error of the weighted mean"
   ]
  },
  {
   "cell_type": "code",
   "execution_count": 18,
   "id": "28354e23",
   "metadata": {},
   "outputs": [
    {
     "name": "stdout",
     "output_type": "stream",
     "text": [
      "Mean BJD: 51870.839255\n",
      "Weighted OC: -19.98764460351544\n",
      "Weighted OC_err: 4.705403997734946\n"
     ]
    }
   ],
   "source": [
    "#Group8\n",
    "OC_a8 = [i for i in range(N_data_gp8)]\n",
    "OC_err_a8 = [i for i in range(N_data_gp8)]\n",
    "w_a8 = [i for i in range(N_data_gp8)]\n",
    "y_a8 = [i for i in range(N_data_gp8)]\n",
    "\n",
    "for i in range(N_data_gp8):\n",
    "    BJD_time = Data_gp8[:,0]                   #Input file of x\n",
    "    OC_s = Data_gp8[:,1]                       #Input file of y\n",
    "    OC_a8[i] = OC_s \n",
    "    OC_s_err = Data_gp8[:,2]                   #Input file of y_err\n",
    "    OC_err_a8[i] = OC_s_err\n",
    "    w = 1/(OC_err_a8[i])**2                    #calculate the weighting factor\n",
    "    w_a8[i] = w\n",
    "    y = (w_a8[i]*OC_a8[i])                     #Calculate the weighting factor and the y-value\n",
    "    y_a8[i] = y\n",
    "    y_sum = np.sum(y_a8)                       #Sum the weighting factor and the y-value                      \n",
    "    w_sum = np.sum(w_a8)                       #Sum the weighting factor \n",
    "    dy = (w_a8[i]*OC_err_a8[i])/np.sum(w_a8[i])\n",
    "#print(y_sum, w_sum)\n",
    "x8_aver = np.mean(BJD_time)                   #Calculate the mean of BMJD\n",
    "y8_aver = y_sum/w_sum                         #Calculate the weighted mean\n",
    "y8_err = np.sum(dy)                 #Calculate the standard deviation\n",
    "\n",
    "print('Mean BJD:', x8_aver)                   #Print Mean BJD\n",
    "print('Weighted OC:', y8_aver)                #Print the weighted mean\n",
    "print('Weighted OC_err:',y8_err)              #Print the error of the weighted mean"
   ]
  },
  {
   "cell_type": "code",
   "execution_count": 19,
   "id": "7416ad1b",
   "metadata": {},
   "outputs": [
    {
     "name": "stdout",
     "output_type": "stream",
     "text": [
      "Mean BJD: 52284.71018\n",
      "Weighted OC: -24.412751259453408\n",
      "Weighted OC_err: 4.922079052121095\n"
     ]
    }
   ],
   "source": [
    "#Group9\n",
    "OC_a9 = [i for i in range(N_data_gp9)]\n",
    "OC_err_a9 = [i for i in range(N_data_gp9)]\n",
    "w_a9 = [i for i in range(N_data_gp9)]\n",
    "y_a9 = [i for i in range(N_data_gp9)]\n",
    "\n",
    "for i in range(N_data_gp9):\n",
    "    BJD_time = Data_gp9[:,0]                   #Input file of x\n",
    "    OC_s = Data_gp9[:,1]                       #Input file of y\n",
    "    OC_a9[i] = OC_s \n",
    "    OC_s_err = Data_gp9[:,2]                   #Input file of y_err\n",
    "    OC_err_a9[i] = OC_s_err\n",
    "    w = 1/(OC_err_a9[i])**2                    #calculate the weighting factor\n",
    "    w_a9[i] = w\n",
    "    y = (w_a9[i]*OC_a9[i])                     #Calculate the weighting factor and the y-value\n",
    "    y_a9[i] = y\n",
    "    y_sum = np.sum(y_a9)                       #Sum the weighting factor and the y-value                      \n",
    "    w_sum = np.sum(w_a9)                       #Sum the weighting factor \n",
    "    dy = (w_a9[i]*OC_err_a9[i])/np.sum(w_a9[i])\n",
    "#print(y_sum, w_sum)\n",
    "x9_aver = np.mean(BJD_time)                   #Calculate the mean of BMJD\n",
    "y9_aver = y_sum/w_sum                         #Calculate the weighted mean\n",
    "y9_err = np.sum(dy)                 #Calculate the standard deviation\n",
    "\n",
    "print('Mean BJD:', x9_aver)                   #Print Mean BJD\n",
    "print('Weighted OC:', y9_aver)                #Print the weighted mean\n",
    "print('Weighted OC_err:',y9_err)              #Print the error of the weighted mean"
   ]
  },
  {
   "cell_type": "markdown",
   "id": "250a6241",
   "metadata": {},
   "source": [
    "#### 10. Plo the O-C diagram of DP Leo"
   ]
  },
  {
   "cell_type": "code",
   "execution_count": 20,
   "id": "45fa796e",
   "metadata": {},
   "outputs": [
    {
     "data": {
      "image/png": "[encoded data removed]",
      "text/plain": [
       "<Figure size 1080x360 with 1 Axes>"
      ]
     },
     "metadata": {
      "needs_background": "light"
     },
     "output_type": "display_data"
    }
   ],
   "source": [
    "#Plot O-C vs BJD\n",
    "Input_Schwope_2002  = 'Schwope_2002.out'\n",
    "Data_Schwope_2002   = np.genfromtxt(Input_Schwope_2002)\n",
    "\n",
    "N = 2400000\n",
    "BJD_time_Schwope_2002 = Data_Schwope_2002[:,0]\n",
    "Cycle_Schwope_2002 = Data_Schwope_2002[:,1]\n",
    "T_O_linear_Schwope_2002 = Data_Schwope_2002[:,2]\n",
    "T_C_linear_Schwope_2002 = Data_Schwope_2002[:,3]\n",
    "OC_s_Schwope_2002 = Data_Schwope_2002[:,4]\n",
    "OC_s_err_Schwope_2002 = Data_Schwope_2002[:,5]\n",
    "\n",
    " ##Plotgraph\n",
    "fig=plt.figure(figsize=(15, 5), tight_layout=True)\n",
    "plt.tick_params(direction='in', which='both', bottom='on',top='on', right = 'on')\n",
    "\n",
    "x1 = min(BJD_time_Schwope_2002)\n",
    "x2 = max(BJD_time_Schwope_2002)\n",
    "#plt.errorbar(BJD_time, OC_s, yerr=OC_s_err, fmt='o', color='limegreen')\n",
    "#plt.errorbar(BJD_time_Schwope_2002, OC_s_Schwope_2002, yerr= OC_s_err_Schwope_2002, fmt='o', markersize=8, color='green',\n",
    "#                    ecolor='lightgray', label = 'Schwope et al. (2002)')\n",
    "\n",
    "plt.errorbar(x1_aver, y1_aver, yerr = y1_err, fmt='o', markersize=8, color='green',ecolor='lightgray',)\n",
    "plt.errorbar(x2_aver, y2_aver, yerr = y2_err, fmt='o', markersize=8, color='green',ecolor='lightgray',)\n",
    "plt.errorbar(x3_aver, y3_aver, yerr = y3_err, fmt='o', markersize=8, color='green',ecolor='lightgray',)\n",
    "plt.errorbar(x4_aver, y4_aver, yerr = y4_err, fmt='o', markersize=8, color='green',ecolor='lightgray',)\n",
    "plt.errorbar(x5_aver, y5_aver, yerr = y5_err, fmt='o', markersize=8, color='green',ecolor='lightgray',)\n",
    "plt.errorbar(x6_aver, y6_aver, yerr = y6_err, fmt='o', markersize=8, color='green',ecolor='lightgray',)\n",
    "plt.errorbar(x7_aver, y7_aver, yerr = y7_err, fmt='o', markersize=8, color='green',ecolor='lightgray',)\n",
    "plt.errorbar(x8_aver, y8_aver, yerr = y8_err, fmt='o', markersize=8, color='green',ecolor='lightgray',)\n",
    "plt.errorbar(x9_aver, y9_aver, yerr = y9_err, fmt='o', markersize=8, color='green',ecolor='lightgray',)\n",
    "\n",
    "#Schwope_2002\n",
    "#plt.text(x1_aver, 62, '1979')\n",
    "#plt.text(x2_aver, 62, '1981')\n",
    "#plt.text(x3_aver-30, 62, '1984')\n",
    "#plt.text(x4_aver+30, 62, '1985')\n",
    "#plt.text(x5_aver-100, 62, '1991')\n",
    "#plt.text(x6_aver, 62, '1992')\n",
    "#plt.text(x7_aver, 62, '1993')\n",
    "#plt.text(x8_aver, 62, '2000')\n",
    "#plt.text(x9_aver, 62, '2002')\n",
    "\n",
    "#plt.hlines(y= 0, xmin= x1, xmax= x2, colors='k', linestyles='dotted')\n",
    "#plt.xlim(x1,x2)\n",
    "#plt.ylim(-100,60)\n",
    "plt.xlabel('BJD - '+str(N))\n",
    "plt.ylabel('O-C (sec)')\n",
    "#plt.legend()\n",
    "plt.grid(linestyle='dotted')\n",
    "######plt.title('O-C diagram: DP Leo')\n",
    "#output_filename = os.path.splitext(__file__)[0] + '.png'\n",
    "#plt.savefig(output_filename, dpi=1000)\n",
    "#plt.savefig(\"OC_Schwope_2002.jpg\", dpi=1000)\n",
    "plt.show()"
   ]
  },
  {
   "cell_type": "markdown",
   "id": "46539093",
   "metadata": {},
   "source": [
    "#### 11. Save the text file of Schwope et al.(2002) for the LTT fitting"
   ]
  },
  {
   "cell_type": "code",
   "execution_count": 21,
   "id": "1466892e",
   "metadata": {},
   "outputs": [],
   "source": [
    "np.savetxt('2022_May_week3_Weighted_mean_calculation_Schwope_2002_01.out', np.c_[x1_aver, y1_aver, y1_err], fmt=\"%.5f\")\n",
    "np.savetxt('2022_May_week3_Weighted_mean_calculation_Schwope_2002_02.out', np.c_[x2_aver, y2_aver, y2_err], fmt=\"%.5f\")\n",
    "np.savetxt('2022_May_week3_Weighted_mean_calculation_Schwope_2002_03.out', np.c_[x3_aver, y3_aver, y3_err], fmt=\"%.5f\")\n",
    "np.savetxt('2022_May_week3_Weighted_mean_calculation_Schwope_2002_04.out', np.c_[x4_aver, y4_aver, y4_err], fmt=\"%.5f\")\n",
    "np.savetxt('2022_May_week3_Weighted_mean_calculation_Schwope_2002_05.out', np.c_[x5_aver, y5_aver, y5_err], fmt=\"%.5f\")\n",
    "np.savetxt('2022_May_week3_Weighted_mean_calculation_Schwope_2002_06.out', np.c_[x6_aver, y6_aver, y6_err], fmt=\"%.5f\")\n",
    "np.savetxt('2022_May_week3_Weighted_mean_calculation_Schwope_2002_07.out', np.c_[x7_aver, y7_aver, y7_err], fmt=\"%.5f\")\n",
    "np.savetxt('2022_May_week3_Weighted_mean_calculation_Schwope_2002_08.out', np.c_[x8_aver, y8_aver, y8_err], fmt=\"%.5f\")\n",
    "np.savetxt('2022_May_week3_Weighted_mean_calculation_Schwope_2002_09.out', np.c_[x9_aver, y9_aver, y9_err], fmt=\"%.5f\")"
   ]
  },
  {
   "cell_type": "markdown",
   "id": "7c5c56da",
   "metadata": {},
   "source": [
    "### Quadratic term fitting following Schwope et al. 2002"
   ]
  },
  {
   "cell_type": "code",
   "execution_count": 22,
   "id": "509ff9d3",
   "metadata": {},
   "outputs": [
    {
     "name": "stdout",
     "output_type": "stream",
     "text": [
      "\u001b[1m\u001b[31m2022_May_week3_Weighted_mean_calculation_Schwope_2002.ipynb\u001b[m\u001b[m*\r\n",
      "2022_May_week3_Weighted_mean_calculation_Schwope_2002_01.out\r\n",
      "2022_May_week3_Weighted_mean_calculation_Schwope_2002_02.out\r\n",
      "2022_May_week3_Weighted_mean_calculation_Schwope_2002_03.out\r\n",
      "2022_May_week3_Weighted_mean_calculation_Schwope_2002_04.out\r\n",
      "2022_May_week3_Weighted_mean_calculation_Schwope_2002_05.out\r\n",
      "2022_May_week3_Weighted_mean_calculation_Schwope_2002_06.out\r\n",
      "2022_May_week3_Weighted_mean_calculation_Schwope_2002_07.out\r\n",
      "2022_May_week3_Weighted_mean_calculation_Schwope_2002_08.out\r\n",
      "2022_May_week3_Weighted_mean_calculation_Schwope_2002_09.out\r\n",
      "2022_May_week3_Weighted_mean_calculation_Schwope_2002_combined.out\r\n",
      "OC_Schwope_2002.jpg\r\n",
      "\u001b[1m\u001b[31mSchwope_2002.dat\u001b[m\u001b[m*\r\n",
      "Schwope_2002.out\r\n",
      "Weighted_mean_calculation_gp1.txt\r\n",
      "Weighted_mean_calculation_gp2.txt\r\n",
      "Weighted_mean_calculation_gp3.txt\r\n",
      "Weighted_mean_calculation_gp4.txt\r\n",
      "Weighted_mean_calculation_gp5.txt\r\n",
      "Weighted_mean_calculation_gp6.txt\r\n",
      "Weighted_mean_calculation_gp7.txt\r\n",
      "Weighted_mean_calculation_gp8.txt\r\n",
      "Weighted_mean_calculation_gp9.txt\r\n",
      "interporate_lnquad_fit.out\r\n"
     ]
    }
   ],
   "source": [
    "ls"
   ]
  },
  {
   "cell_type": "code",
   "execution_count": 23,
   "id": "28925ede",
   "metadata": {},
   "outputs": [],
   "source": [
    "#Plot O-C vs BJD\n",
    "InputFileInput  = \"2022_May_week3_Weighted_mean_calculation_Schwope_2002_combined.out\"\n",
    "Data   = np.genfromtxt(InputFileInput)\n",
    "BJD = Data[:,0]\n",
    "OC_s = Data[:,1]\n",
    "OC_s_err = Data[:,2]"
   ]
  },
  {
   "cell_type": "code",
   "execution_count": 24,
   "id": "2e1428fe",
   "metadata": {},
   "outputs": [],
   "source": [
    "x = BJD\n",
    "Epoch = (x - T0_bjd)/P0_day \n",
    "y = OC_s\n",
    "dy = OC_s_err\n",
    "len_x = len(x)\n",
    "\n",
    "#print(Epoch)"
   ]
  },
  {
   "cell_type": "code",
   "execution_count": 25,
   "id": "b1012fe3",
   "metadata": {},
   "outputs": [],
   "source": [
    "m = 1\n",
    "c = 1\n",
    "Q = 1\n",
    "\n",
    "def quad_fit(x,m,c,Q):\n",
    "    Epoch = (x - T0_bjd)/P0_day \n",
    "    return m*Epoch + c + Q*Epoch*Epoch"
   ]
  },
  {
   "cell_type": "code",
   "execution_count": 26,
   "id": "945adcac",
   "metadata": {},
   "outputs": [],
   "source": [
    "import scipy.optimize as optimization  \n",
    "guess = (m,c,Q)\n",
    "params, params_covariance = optimization.curve_fit(quad_fit, x, y,sigma=dy, absolute_sigma=False,p0=guess)\n",
    "\n",
    "m = params[0]\n",
    "c = params[1]\n",
    "Q = params[2]\n",
    "\n",
    "dm = params_covariance[0,0]\n",
    "dc = params_covariance[1,1]\n",
    "dQ = params_covariance[2,2]\n",
    "\n",
    "oc_quad_fit = quad_fit(x,*params)"
   ]
  },
  {
   "cell_type": "code",
   "execution_count": 27,
   "id": "2b0f4c5c",
   "metadata": {},
   "outputs": [
    {
     "name": "stdout",
     "output_type": "stream",
     "text": [
      "The fitting parameters:\n",
      "T0 = 48773.21508 +/- 0.00003 [days]\n",
      "P_bin = 0.0623628376 +/- 0.0000000010 [days]\n",
      "P_dot = -0.0000000000041 +/- 0.0000000000002 [s/s]\n"
     ]
    }
   ],
   "source": [
    "#The ephemeris from above\n",
    "T0 = T0_bjd\n",
    "dT0 = T0_bjd_err\n",
    "P0 = P0_day\n",
    "dP0 = P0_day_err\n",
    "\n",
    "\n",
    "#print('The fitting parameters:')\n",
    "##T\n",
    "T = c/(24*60*60) + T0\n",
    "dT = np.sqrt((((dc**(0.5))/(24*60*60))**2) + (dT0**2))\n",
    "#T = BJD0\n",
    "#print('T0 (BJD):',T)\n",
    "#print('dT0 (BJD):',dT)\n",
    "\n",
    "##P\n",
    "Period = (m/(24*60*60)) + P0\n",
    "dPeriod = np.sqrt((((dm**(0.5))/(24*60*60))**2) + (dP0**2))\n",
    "#print('P0 (days):',Period)\n",
    "#print('dP0 (days):',dPeriod)\n",
    "\n",
    "\n",
    "#Period decrease\n",
    "P_dot = 2*Q/(P0*24*60*60)\n",
    "dP_dot = (2*(P0*24*60*60)*(dQ**0.5) - 2*Q*(dP0*24*60*60))/((P0*24*60*60)**2)\n",
    "#print('P_dot (s/s):',P_dot)\n",
    "#print('dP_dot (s/s):',dP_dot)\n",
    "\n",
    "print(\"The fitting parameters:\")\n",
    "print('T0 = '+str('%0.5f' %(T)),'+/-', str('%0.5f' %(dT)), \"[days]\")\n",
    "print('P_bin = '+str('%0.10f' %(Period)),'+/-', str('%0.10f' %(dPeriod)), \"[days]\")\n",
    "print('P_dot = '+str('%0.13f' %(P_dot)),'+/-', str('%0.13f' %(dP_dot)), \"[s/s]\")\n"
   ]
  },
  {
   "cell_type": "code",
   "execution_count": 28,
   "id": "5975efb3",
   "metadata": {},
   "outputs": [
    {
     "name": "stdout",
     "output_type": "stream",
     "text": [
      "50\n",
      "50\n",
      "9\n",
      "0.29534446542394377\n"
     ]
    }
   ],
   "source": [
    "x_min, x_max = np.amin(x), np.amax(x)\n",
    "x_line = np.linspace(x_min, x_max)\n",
    "print(len(x_line))\n",
    "y_line = quad_fit(x_line, *params) #### For all interporation \n",
    "ys = quad_fit(x, *params)\n",
    "\n",
    "print(len(y_line))\n",
    "print(len(ys))\n",
    "\n",
    "Residual = y - ys\n",
    "\n",
    "#np.savetxt('TNO_ephemeris_determination_1.out', np.c_[x_line, y_line, y, dy], fmt=\"%.5f\")\n",
    "\n",
    "#Reduced_chisqrt\n",
    "m = 3\n",
    "dof = len_x - m\n",
    "Chi_sqr = ((y - ys)**2/(dy)**2)/dof\n",
    "Reduced_chisq_lnquad= sum(Chi_sqr)\n",
    "print(Reduced_chisq_lnquad)"
   ]
  },
  {
   "cell_type": "code",
   "execution_count": 29,
   "id": "5809e954",
   "metadata": {},
   "outputs": [
    {
     "data": {
      "image/png": "[encoded data removed]",
      "text/plain": [
       "<Figure size 504x360 with 2 Axes>"
      ]
     },
     "metadata": {
      "needs_background": "light"
     },
     "output_type": "display_data"
    }
   ],
   "source": [
    "N_BMJD = 2400000\n",
    "fig, (ax0, ax1) = plt.subplots(2, 1, gridspec_kw={'height_ratios': [4, 1]}, sharex=True, sharey=False, figsize=(7, 5), tight_layout=True)\n",
    "plt.xlabel('BJD-'+str(N_BMJD))\n",
    "\n",
    "ax0.tick_params(direction='in', which='both', bottom='on',top='on', right = 'on')\n",
    "ax1.tick_params(direction='in', which='both', bottom='on',top='on', right = 'on')\n",
    "\n",
    "ax0.errorbar(x, y, yerr= dy, fmt='o', markersize=8, color='blue', ecolor='lightgray')\n",
    "ax0.plot(x_line, y_line, '-', color='teal',label='linear+quad\\_terms, $\\chi_{red}^{2}$ = '+str('%0.3f' %(Reduced_chisq_lnquad)))\n",
    "\n",
    "#ax0.set_ylim(-40,60)\n",
    "\n",
    "ax0.set_ylabel('O-C (sec)')\n",
    "ax1.set_ylabel('Residuals (sec)')\n",
    "\n",
    "ax1.errorbar(x, Residual, yerr= dy, fmt='o', markersize=8, color='black', ecolor='lightgray')\n",
    "\n",
    "ax1.axhline(y=0, color='black', linestyle='-')\n",
    "ax0.legend(loc=\"best\")\n",
    "\n",
    "#plt.savefig(\"2022_Feb_week4_new_ephemeris_sin_fit_Res.jpg\", dpi=1000)\n",
    "\n",
    "plt.show()"
   ]
  },
  {
   "cell_type": "code",
   "execution_count": 30,
   "id": "9eab5571",
   "metadata": {},
   "outputs": [],
   "source": [
    "N = 700\n",
    "x_range = [i for i in range(N)]\n",
    "x_range_a = [i for i in range(N)]\n",
    "y_range = [i for i in range(len(x_range))]\n",
    "step=1*100\n",
    "#step\n",
    "\n",
    "interporate = []\n",
    "for i in range(300, N):\n",
    "    x_range[i] = i*step\n",
    "    y_range[i] = quad_fit(x_range[i], *params)\n",
    "#    print(x_range[i], y_range[i])\n",
    "    interporate.append('%0.0f %0.2f %0.5f' %(i, x_range[i], y_range[i]))\n",
    "    \n",
    "data_out = interporate\n",
    "f = open(\"interporate_lnquad_fit.out\", 'w')\n",
    "for i in range(len(data_out)):\n",
    "    f.write(str(data_out[i])+ '\\n')\n",
    "f.close()\n",
    "\n",
    "InputFile_out = \"interporate_lnquad_fit.out\"\n",
    "Data_out   = np.genfromtxt(InputFile_out)\n",
    "\n",
    "#Read the wd data: BJD vs. Relative flux\n",
    "x_range_lnquad = Data_out[:,1]\n",
    "y_range_lnquad = Data_out[:,2]\n",
    "\n",
    "#print(y_range)"
   ]
  },
  {
   "cell_type": "code",
   "execution_count": 31,
   "id": "0dc67548",
   "metadata": {},
   "outputs": [
    {
     "data": {
      "image/png": "[encoded data removed]",
      "text/plain": [
       "<Figure size 864x504 with 1 Axes>"
      ]
     },
     "metadata": {
      "needs_background": "light"
     },
     "output_type": "display_data"
    }
   ],
   "source": [
    "#Plotgraph\n",
    "fig=plt.figure(figsize=(12, 7))\n",
    "plt.errorbar(x, y, yerr= dy, fmt='o', markersize=8, color='blue', ecolor='lightgray')\n",
    "# create a line plot for the mapping function\n",
    "plt.errorbar(x, y, yerr= dy, fmt='o', markersize=8, color='blue', ecolor='lightgray')\n",
    "plt.plot(x_range_lnquad, y_range_lnquad, '-', color='teal',label='linear+LTT\\_fit, $\\chi_{red}^{2}$ = '+str('%0.3f' %(Reduced_chisq_lnquad)))\n",
    "#plt.xlim(-6000,6000)\n",
    "#plt.ylim(-200,200)\n",
    "#plt.ylim(-40,60)\n",
    "plt.xlabel('BJD-'+str(N_BMJD))\n",
    "plt.ylabel('O-C (sec)')\n",
    "plt.grid(linestyle='dotted')\n",
    "plt.legend(loc=\"best\")\n",
    "#####plt.title('O-C diagram: DP Leo')\n",
    "#output_filename = os.path.splitext(__file__)[0] + '.png'\n",
    "#plt.savefig(\"DP_Leo_LTT_fit_weighted_data_combined_lnsin_fit.pdf\", dpi=1200)\n",
    "plt.show()"
   ]
  },
  {
   "cell_type": "code",
   "execution_count": null,
   "id": "6cfda194",
   "metadata": {},
   "outputs": [],
   "source": []
  }
 ],
 "metadata": {
  "kernelspec": {
   "display_name": "Python 3 (ipykernel)",
   "language": "python",
   "name": "python3"
  },
  "language_info": {
   "codemirror_mode": {
    "name": "ipython",
    "version": 3
   },
   "file_extension": ".py",
   "mimetype": "text/x-python",
   "name": "python",
   "nbconvert_exporter": "python",
   "pygments_lexer": "ipython3",
   "version": "3.9.7"
  }
 },
 "nbformat": 4,
 "nbformat_minor": 5
}
